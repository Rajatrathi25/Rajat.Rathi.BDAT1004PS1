{
 "cells": [
  {
   "cell_type": "markdown",
   "id": "19ff72f0",
   "metadata": {},
   "source": [
    "# Problem set 1 Python question"
   ]
  },
  {
   "cell_type": "markdown",
   "id": "9d4b941c",
   "metadata": {},
   "source": [
    "# Ques6.\n",
    "You can turn a word into pig-Latin using the following two rules (simplified):\n",
    "• If the word starts with a consonant, move that letter to the end and append\n",
    "'ay'. For example, 'happy' becomes 'appyhay' and 'pencil' becomes 'encilpay'.\n",
    "• If the word starts with a vowel, simply append 'way' to the end of the word.\n",
    "For example, 'enter' becomes 'enterway' and 'other' becomes 'otherway' . For\n",
    "our purposes, there are 5 vowels: a, e, i, o, u (so we count y as a consonant).\n",
    "Write a function pig() that takes a word (i.e., a string) as input and returns its pigLatin form. Your function should still work if the input word contains upper case\n",
    "characters. Your output should always be lower case however.\n",
    "> pig('happy') \n",
    "'appyhay'\n",
    "\n",
    "> pig('Enter')\n",
    "'enterway' "
   ]
  },
  {
   "cell_type": "code",
   "execution_count": 78,
   "id": "e533617f",
   "metadata": {},
   "outputs": [
    {
     "name": "stdout",
     "output_type": "stream",
     "text": [
      "appyhay\n",
      "\n",
      "enterway\n"
     ]
    }
   ],
   "source": [
    "# This is the solution for Ques 6 \n",
    "\n",
    "# Here we take the input from the user\n",
    "# name = input(\"Enter the word \")\n",
    "\n",
    "# The function pigLatin is defined where we provide a string as an input\n",
    "def pigLatin(name):\n",
    "    \n",
    "    name=name.lower()\n",
    "    firstLetter=name[0]\n",
    "    \n",
    "    # A String is created which contians all the vowels\n",
    "    vowels='AEIOUaeiou'\n",
    "    \n",
    "    #if else condition is used where we check the first alphabet in the string if it is in the string then we do the desired task.\n",
    "    if(firstLetter in vowels):\n",
    "        print(name+'way') \n",
    "    \n",
    "    # else we do the desired task of consonants.\n",
    "    else:\n",
    "        name=name[1:]\n",
    "        name+=firstLetter\n",
    "        print(name+'ay\\n')\n",
    "    \n",
    "pigLatin('happy')\n",
    "\n",
    "pigLatin('Enter')"
   ]
  },
  {
   "cell_type": "markdown",
   "id": "62dcc980",
   "metadata": {},
   "source": [
    "# Ques 7. \n",
    "File bloodtype1.txt records blood-types of patients (A, B, AB, O or OO) at a clinic.\n",
    "Write a function bldcount() that reads the file with name name and reports (i.e.,\n",
    "prints) how many patients there are in each bloodtype.\n",
    "> bldcount('bloodtype.txt')\n",
    "\n",
    "There are 10 patients of blood type A.\n",
    "\n",
    "There is one patient of blood type B.\n",
    "\n",
    "There are 10 patients of blood type AB.\n",
    "\n",
    "There are 12 patients of blood type O.\n",
    "\n",
    "There are no patients of blood type OO.\n",
    "\n"
   ]
  },
  {
   "cell_type": "code",
   "execution_count": 25,
   "id": "723c101e",
   "metadata": {},
   "outputs": [
    {
     "name": "stdout",
     "output_type": "stream",
     "text": [
      "\n",
      "\n",
      "There are 15 patients of blood type A\n",
      "\n",
      "There are 1 patients of blood type B\n",
      "\n",
      "There are 13 patients of blood type AB\n",
      "\n",
      "There are 15 patients of blood type O\n",
      "\n"
     ]
    }
   ],
   "source": [
    "# A function bldcount is created \n",
    "def bldcount(name):\n",
    "    \n",
    "    # A file is opened in read mode\n",
    "    infile=open(name,'r')\n",
    "    \n",
    "    # The lines of file is read and stored in content variable\n",
    "    content = infile.read()\n",
    "    \n",
    "    # The file is closed\n",
    "    infile.close()\n",
    "    \n",
    "    wordList = content.split()\n",
    "    \n",
    "    # Variables are created to store the count\n",
    "    ABCount= 0\n",
    "    BCount=0\n",
    "    ACount=0\n",
    "    OCount=0\n",
    "    \n",
    "    # for loop is used to check the bloodtypes and simulatenously count is increased for every bloodtype that is encounterd\n",
    "    for bloodtype in wordList:\n",
    "        if(bloodtype=='AB'):\n",
    "            ABCount+=1\n",
    "        elif(bloodtype=='A'):\n",
    "            ACount+=1\n",
    "        elif(bloodtype=='B'):\n",
    "            BCount+=1\n",
    "        else:\n",
    "            OCount+=1\n",
    "            \n",
    "    # The values are printe\n",
    "    print(\"\\n\")\n",
    "    print(\"There are \"+str(ACount)+\" patients of blood type A\\n\")\n",
    "    print(\"There are \"+ str(BCount) +\" patients of blood type B\\n\")\n",
    "    print(\"There are \"+str(ABCount)+\" patients of blood type AB\\n\")\n",
    "    print(\"There are \"+str(OCount)+\" patients of blood type O\\n\")\n",
    "\n",
    "# The call is made to the function\n",
    "bldcount('bloodtype1.txt')"
   ]
  },
  {
   "cell_type": "markdown",
   "id": "d457af99",
   "metadata": {},
   "source": [
    "# Ques 8 .\n",
    "Write a function curconv() that takes as input:\n",
    "1. a currency represented using a string (e.g., 'JPY' for the Japanese Yen or\n",
    "'EUR' for the Euro)\n",
    "2. an amount\n",
    "and then converts and returns the amount in US dollars.\n",
    ">curconv('EUR', 100)\n"
   ]
  },
  {
   "cell_type": "code",
   "execution_count": 62,
   "id": "57b286c1",
   "metadata": {},
   "outputs": [
    {
     "name": "stdout",
     "output_type": "stream",
     "text": [
      "122.96544\n",
      "1.241401\n"
     ]
    }
   ],
   "source": [
    "#https://stackoverflow.com/questions/17775273/how-to-read-and-store-values-from-a-text-file-into-a-dictionary-python\n",
    "\n",
    "# A dictionary is created to store value from file\n",
    "CurrDict = {}\n",
    "\n",
    "# File is opened and values are stored.\n",
    "with open('currencies.txt', 'r') as file:\n",
    "        for line in file:\n",
    "            splitLine = line.split()\n",
    "            CurrDict[splitLine[0]] = \" \".join(splitLine[1:2])\n",
    "            \n",
    "#Function to take input and rate is multiplied with given amount\n",
    "def currconv(currency,amount):\n",
    "    \n",
    "    #rate is fetched from dictionary\n",
    "    rate=CurrDict[currency]\n",
    "    rate=float(rate)\n",
    "    amount=float(amount)\n",
    "    \n",
    "    #value is multiplied with the rate\n",
    "    convertAmount=amount*rate\n",
    "    print(convertAmount)\n",
    "    \n",
    "#call to functions are made \n",
    "currconv('EUR',100)\n",
    "currconv('JPY',100)"
   ]
  },
  {
   "cell_type": "markdown",
   "id": "74c7299c",
   "metadata": {},
   "source": [
    "# Question 9 \n",
    "Each of the following will cause an exception (an error). Identify what type of\n",
    "exception each will cause."
   ]
  },
  {
   "cell_type": "markdown",
   "id": "3211a503",
   "metadata": {},
   "source": [
    "|Exception                    | Problem                                                                                           |                \n",
    "| :---                        |-----------------:                                                                                 |          \n",
    "| ValueErorr                  | Trying to add incompatible variables, as in adding 6 + ‘a’                                        | \n",
    "| IndexError                  | Referring to the 12th item of a list that has only 10 items                                       |  \n",
    "| IndexError                  | Using a value that is out of range for a function’s input, such as calling math.sqrt(-1.0)        |  \n",
    "| NameError                   | Using an undeclared variable, such as print(x) when x has not been defined                        |   \n",
    "| ValueErorr                  | Trying to open a file that does not exist, such as mistyping the file name or looking in the wrong directory| \n"
   ]
  },
  {
   "cell_type": "markdown",
   "id": "ee2c33a7",
   "metadata": {},
   "source": [
    "# Question 10\n",
    "Encryption is the process of hiding the meaning of a text by substituting letters in the\n",
    "message with other letters, according to some system. If the process is successful, no\n",
    "one but the intended recipient can understand the encrypted message. Cryptanalysis\n",
    "refers to attempts to undo the encryption, even if some details of the encryption are\n",
    "unknown (for example, if an encrypted message has been intercepted). The first step\n",
    "of cryptanalysis is often to build up a table of letter frequencies in the encrypted text.\n",
    "Assume that the string letters is already defined as\n",
    "'abcdefghijklmnopqrstuvwxyz'. Write a function called frequencies()\n",
    "that takes a string as its only parameter, and returns a list of integers, showing the\n",
    "number of times each character appears in the text. Your function may ignore any\n",
    "characters that are not in letters.\n",
    "> frequencies('The quick red fox got bored and went home.')\n",
    "\n",
    "[1, 1, 1, 3, 5, 1, 1, 2, 1, 0, 1, 0, 1, 2, 4, 0, 1, 2, 0, 2,\n",
    "1, 0, 1, 1, 0, 0]\n",
    "\n",
    "> frequencies('apple')"
   ]
  },
  {
   "cell_type": "code",
   "execution_count": 73,
   "id": "461130b1",
   "metadata": {},
   "outputs": [
    {
     "name": "stdout",
     "output_type": "stream",
     "text": [
      "[1, 1, 1, 3, 5, 1, 1, 2, 1, 0, 1, 0, 1, 2, 4, 0, 1, 2, 0, 2, 1, 0, 1, 1, 0, 0]\n",
      "\n",
      "\n",
      "[1, 0, 0, 0, 1, 0, 0, 0, 0, 0, 0, 1, 0, 0, 0, 2, 0, 0, 0, 0, 0, 0, 0, 0, 0, 0]\n"
     ]
    }
   ],
   "source": [
    "alphabets='abcdefghijklmnopqrstuvwxyz'\n",
    "\n",
    "# This is the function created to count the value\n",
    "def frequency(value):\n",
    "    \n",
    "    # A list is created to store the values\n",
    "    numberChar=[]\n",
    "    \n",
    "    # We check each alphabet and count its value in the input.\n",
    "    for i in alphabets:\n",
    "        number=value.count(i)\n",
    "        numberChar.append(number)\n",
    "    \n",
    "    # The list is printed\n",
    "    print(numberChar)\n",
    "\n",
    "frequency('The quick red fox got bored and went home')\n",
    "print('\\n')\n",
    "frequency('apple')"
   ]
  },
  {
   "cell_type": "code",
   "execution_count": null,
   "id": "45e09875",
   "metadata": {},
   "outputs": [],
   "source": []
  }
 ],
 "metadata": {
  "kernelspec": {
   "display_name": "Python 3 (ipykernel)",
   "language": "python",
   "name": "python3"
  },
  "language_info": {
   "codemirror_mode": {
    "name": "ipython",
    "version": 3
   },
   "file_extension": ".py",
   "mimetype": "text/x-python",
   "name": "python",
   "nbconvert_exporter": "python",
   "pygments_lexer": "ipython3",
   "version": "3.9.7"
  }
 },
 "nbformat": 4,
 "nbformat_minor": 5
}
